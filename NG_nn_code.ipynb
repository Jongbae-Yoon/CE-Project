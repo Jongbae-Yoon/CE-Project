{
 "cells": [
  {
   "cell_type": "markdown",
   "id": "bb5d60eb",
   "metadata": {},
   "source": [
    "## Utilizing a Keras LSTM model to forecast henry hub natural gas price trends"
   ]
  },
  {
   "cell_type": "markdown",
   "id": "94a60821",
   "metadata": {},
   "source": [
    "### Imports/initial data"
   ]
  },
  {
   "cell_type": "code",
   "execution_count": null,
   "id": "ec2c6a88",
   "metadata": {},
   "outputs": [],
   "source": [
    "pip install keras\n",
    "pip install tensorflow"
   ]
  },
  {
   "cell_type": "code",
   "execution_count": 214,
   "id": "e8d5c59c",
   "metadata": {},
   "outputs": [],
   "source": [
    "# Imports/Initial Data\n",
    "import numpy as np\n",
    "import matplotlib.pyplot as plt\n",
    "import pandas as pd\n",
    "\n",
    "# Import necessary libraries\n",
    "import tensorflow as tf\n",
    "from keras.models import Sequential\n",
    "from keras.layers import LSTM\n",
    "from keras.layers import Dropout\n",
    "from keras.layers import Dense"
   ]
  },
  {
   "cell_type": "code",
   "execution_count": 215,
   "id": "7b81ba9d",
   "metadata": {},
   "outputs": [
    {
     "name": "stdout",
     "output_type": "stream",
     "text": [
      "1997-01-07    3.82\n",
      "1997-01-08    3.80\n",
      "1997-01-09    3.61\n",
      "1997-01-10    3.92\n",
      "1997-01-13    4.00\n",
      "dtype: float64\n"
     ]
    }
   ],
   "source": [
    "from fredapi import Fred\n",
    "\n",
    "# Initialize the API client with your FRED API key\n",
    "api_key = \"2d144ec6abaf01c598bc81bcec31fc00\"  # Replace with your FRED API key\n",
    "fred = Fred(api_key=api_key)\n",
    "\n",
    "# Download the Henry Hub natural gas price data\n",
    "series_id = \"DHHNGSP\"  # Series ID for Henry Hub natural gas price\n",
    "data = fred.get_series(series_id)\n",
    "\n",
    "# Print the downloaded data\n",
    "print(data.head())"
   ]
  },
  {
   "cell_type": "code",
   "execution_count": 216,
   "id": "cb94569d",
   "metadata": {},
   "outputs": [
    {
     "data": {
      "text/plain": [
       "(6633,)"
      ]
     },
     "execution_count": 216,
     "metadata": {},
     "output_type": "execute_result"
    }
   ],
   "source": [
    "data = data.dropna()\n",
    "data.shape"
   ]
  },
  {
   "cell_type": "code",
   "execution_count": 217,
   "id": "1cdbd041",
   "metadata": {},
   "outputs": [
    {
     "name": "stdout",
     "output_type": "stream",
     "text": [
      "(348,)\n",
      "(6285,)\n"
     ]
    }
   ],
   "source": [
    "data_test = data.loc['2022':'2023']\n",
    "data_train = data.loc[:'2021']\n",
    "\n",
    "print(data_test.shape)\n",
    "print(data_train.shape)"
   ]
  },
  {
   "cell_type": "code",
   "execution_count": 218,
   "id": "f5d7f655",
   "metadata": {},
   "outputs": [
    {
     "name": "stdout",
     "output_type": "stream",
     "text": [
      "(6633, 1) (6285, 1) (348, 1)\n"
     ]
    }
   ],
   "source": [
    "data = np.array(data)\n",
    "data_train = np.array(data_train)\n",
    "data_test = np.array(data_test)\n",
    "\n",
    "data = np.reshape(data, (data.shape[0], 1))\n",
    "data_train = np.reshape(data_train, (data_train.shape[0], 1))\n",
    "data_test = np.reshape(data_test, (data_test.shape[0], 1))\n",
    "print(data.shape,data_train.shape,data_test.shape)"
   ]
  },
  {
   "cell_type": "markdown",
   "id": "496a2677",
   "metadata": {},
   "source": [
    "### Data Normalization"
   ]
  },
  {
   "cell_type": "code",
   "execution_count": 219,
   "id": "1d53fa8b",
   "metadata": {},
   "outputs": [],
   "source": [
    "# Data Normalilzation\n",
    "from sklearn.preprocessing import MinMaxScaler\n",
    "sc = MinMaxScaler(feature_range = (0,1))\n",
    "training_set_scaled = sc.fit_transform(data_train)"
   ]
  },
  {
   "cell_type": "code",
   "execution_count": 220,
   "id": "7205bfd8",
   "metadata": {},
   "outputs": [
    {
     "data": {
      "text/plain": [
       "(6285, 1)"
      ]
     },
     "execution_count": 220,
     "metadata": {},
     "output_type": "execute_result"
    }
   ],
   "source": [
    "training_set_scaled.shape"
   ]
  },
  {
   "cell_type": "markdown",
   "id": "ae563af1",
   "metadata": {},
   "source": [
    "### Incorporating timesteps into data"
   ]
  },
  {
   "cell_type": "code",
   "execution_count": 221,
   "id": "1b1d3572",
   "metadata": {},
   "outputs": [],
   "source": [
    "X_train = []\n",
    "y_train = []\n",
    "for i in range(60, training_set_scaled.shape[0]):\n",
    "    X_train.append(training_set_scaled[i-60:i, 0])\n",
    "    y_train.append(training_set_scaled[i,0])\n",
    "X_train, y_train = np.array(X_train), np.array(y_train)\n",
    "X_train = np.reshape(X_train, (X_train.shape[0], X_train.shape[1], 1))"
   ]
  },
  {
   "cell_type": "code",
   "execution_count": 222,
   "id": "469712b0",
   "metadata": {},
   "outputs": [
    {
     "data": {
      "text/plain": [
       "(6225, 60, 1)"
      ]
     },
     "execution_count": 222,
     "metadata": {},
     "output_type": "execute_result"
    }
   ],
   "source": [
    "X_train.shape"
   ]
  },
  {
   "cell_type": "code",
   "execution_count": 223,
   "id": "b441ec92",
   "metadata": {},
   "outputs": [
    {
     "data": {
      "text/plain": [
       "(6225,)"
      ]
     },
     "execution_count": 223,
     "metadata": {},
     "output_type": "execute_result"
    }
   ],
   "source": [
    "y_train.shape"
   ]
  },
  {
   "cell_type": "markdown",
   "id": "06360486",
   "metadata": {},
   "source": [
    "## MLP"
   ]
  },
  {
   "cell_type": "code",
   "execution_count": 224,
   "id": "ab56a195",
   "metadata": {},
   "outputs": [
    {
     "name": "stdout",
     "output_type": "stream",
     "text": [
      "Epoch 1/10\n",
      "195/195 [==============================] - 1s 2ms/step - loss: 0.0063\n",
      "Epoch 2/10\n",
      "195/195 [==============================] - 0s 2ms/step - loss: 0.0016\n",
      "Epoch 3/10\n",
      "195/195 [==============================] - 0s 2ms/step - loss: 0.0013\n",
      "Epoch 4/10\n",
      "195/195 [==============================] - 0s 2ms/step - loss: 0.0013\n",
      "Epoch 5/10\n",
      "195/195 [==============================] - 0s 2ms/step - loss: 0.0011\n",
      "Epoch 6/10\n",
      "195/195 [==============================] - 0s 2ms/step - loss: 9.1151e-04\n",
      "Epoch 7/10\n",
      "195/195 [==============================] - 0s 2ms/step - loss: 9.5637e-04\n",
      "Epoch 8/10\n",
      "195/195 [==============================] - 0s 1ms/step - loss: 8.3155e-04\n",
      "Epoch 9/10\n",
      "195/195 [==============================] - 0s 2ms/step - loss: 7.6212e-04\n",
      "Epoch 10/10\n",
      "195/195 [==============================] - 0s 2ms/step - loss: 6.4807e-04\n"
     ]
    },
    {
     "data": {
      "text/plain": [
       "<keras.callbacks.History at 0x7faae755e190>"
      ]
     },
     "execution_count": 224,
     "metadata": {},
     "output_type": "execute_result"
    }
   ],
   "source": [
    "model_mlp = Sequential()\n",
    "model_mlp.add(Dense(units = 50, input_shape = (X_train.shape[1],)))\n",
    "model_mlp.add(Dropout(0.2))\n",
    "model_mlp.add(Dense(units = 50))\n",
    "model_mlp.add(Dropout(0.2))\n",
    "model_mlp.add(Dense(units=1))\n",
    "model_mlp.compile(optimizer = 'adam', loss = 'mean_squared_error')\n",
    "model_mlp.fit(X_train, y_train, epochs = 10, batch_size = 32)"
   ]
  },
  {
   "cell_type": "code",
   "execution_count": 228,
   "id": "95746a77",
   "metadata": {},
   "outputs": [
    {
     "name": "stdout",
     "output_type": "stream",
     "text": [
      "11/11 [==============================] - 0s 2ms/step\n"
     ]
    }
   ],
   "source": [
    "inputs = data[len(data) - len(data_test) - 60:]\n",
    "\n",
    "inputs = inputs.reshape(-1,1)\n",
    "inputs = sc.transform(inputs)\n",
    "X_test = []\n",
    "for i in range(60, inputs.shape[0]):\n",
    "    X_test.append(inputs[i-60:i, 0])\n",
    "X_test = np.array(X_test)\n",
    "X_test = np.reshape(X_test, (X_test.shape[0], X_test.shape[1]))\n",
    "predicted_ng_price_mlp = model_mlp.predict(X_test)\n",
    "predicted_ng_price_mlp = sc.inverse_transform(predicted_ng_price_mlp)"
   ]
  },
  {
   "cell_type": "markdown",
   "id": "cba17f99",
   "metadata": {},
   "source": [
    "### Plotting the results"
   ]
  },
  {
   "cell_type": "code",
   "execution_count": 233,
   "id": "93589396",
   "metadata": {},
   "outputs": [
    {
     "data": {
      "image/png": "[encoded data removed]",
      "text/plain": [
       "<Figure size 432x288 with 1 Axes>"
      ]
     },
     "metadata": {
      "needs_background": "light"
     },
     "output_type": "display_data"
    }
   ],
   "source": [
    "plt.plot(data_test, color = 'black', label = 'Henry hub price in 2022 and 2023')\n",
    "\n",
    "plt.plot(predicted_ng_price_mlp, color = 'green', label = 'Predicted hunry hub Price')\n",
    "\n",
    "plt.title('Henry hub natural gas price actual vs forecast')\n",
    "plt.xlabel('Time')\n",
    "plt.ylabel('Natural Gas Price')\n",
    "plt.legend()\n",
    "plt.show()"
   ]
  },
  {
   "cell_type": "markdown",
   "id": "db381922",
   "metadata": {},
   "source": [
    "### Performance evaluation criteria"
   ]
  },
  {
   "cell_type": "code",
   "execution_count": 234,
   "id": "7e07fe4c",
   "metadata": {},
   "outputs": [
    {
     "name": "stdout",
     "output_type": "stream",
     "text": [
      "[0.39911761]\n",
      "[0.29765807]\n",
      "[0.54558049]\n",
      "[0.07528914]\n"
     ]
    }
   ],
   "source": [
    "y_true = data_test\n",
    "y_pred = predicted_ng_price_mlp\n",
    "# MAE(Mean Absolute Error)\n",
    "mae = sum(abs(y_true - y_pred)) / len(y_true)\n",
    "\n",
    "# MSE(Mean Square Error)\n",
    "mse = sum((y_true - y_pred)**2) / len(y_true)\n",
    "\n",
    "# RMSE(Root Mean Square Error)\n",
    "rmse = np.sqrt(mse)\n",
    "\n",
    "# MAPE(Mean Absolute Percentage Error)\n",
    "mape = sum(abs((y_true - y_pred)/y_true)) / len(y_true)\n",
    "\n",
    "print(mae)\n",
    "print(mse)\n",
    "print(rmse)\n",
    "print(mape)"
   ]
  },
  {
   "cell_type": "markdown",
   "id": "63d9cc48",
   "metadata": {},
   "source": [
    "## LSTM"
   ]
  },
  {
   "cell_type": "code",
   "execution_count": 236,
   "id": "5ad4b647",
   "metadata": {},
   "outputs": [
    {
     "name": "stdout",
     "output_type": "stream",
     "text": [
      "Epoch 1/10\n",
      "195/195 [==============================] - 23s 82ms/step - loss: 0.0019\n",
      "Epoch 2/10\n",
      "195/195 [==============================] - 16s 80ms/step - loss: 0.0011\n",
      "Epoch 3/10\n",
      "195/195 [==============================] - 14s 74ms/step - loss: 9.5264e-04\n",
      "Epoch 4/10\n",
      "195/195 [==============================] - 15s 78ms/step - loss: 8.9709e-04\n",
      "Epoch 5/10\n",
      "195/195 [==============================] - 15s 75ms/step - loss: 7.8680e-04\n",
      "Epoch 6/10\n",
      "195/195 [==============================] - 15s 75ms/step - loss: 7.8679e-04\n",
      "Epoch 7/10\n",
      "195/195 [==============================] - 14s 74ms/step - loss: 7.2083e-04\n",
      "Epoch 8/10\n",
      "195/195 [==============================] - 15s 76ms/step - loss: 6.6718e-04\n",
      "Epoch 9/10\n",
      "195/195 [==============================] - 15s 75ms/step - loss: 6.4389e-04\n",
      "Epoch 10/10\n",
      "195/195 [==============================] - 15s 77ms/step - loss: 6.2621e-04\n"
     ]
    },
    {
     "data": {
      "text/plain": [
       "<keras.callbacks.History at 0x7faad286b760>"
      ]
     },
     "execution_count": 236,
     "metadata": {},
     "output_type": "execute_result"
    }
   ],
   "source": [
    "model_lstm = Sequential()\n",
    "model_lstm.add(LSTM(units = 50, return_sequences = True, input_shape = (X_train.shape[1],1)))\n",
    "model_lstm.add(Dropout(0.2))\n",
    "model_lstm.add(LSTM(units = 50, return_sequences = True))\n",
    "model_lstm.add(Dropout(0.2))\n",
    "model_lstm.add(LSTM(units = 50, return_sequences = True))\n",
    "model_lstm.add(Dropout(0.2))\n",
    "model_lstm.add(LSTM(units=50))\n",
    "model_lstm.add(Dropout(0.2))\n",
    "model_lstm.add(Dense(units=1))\n",
    "model_lstm.compile(optimizer = 'adam', loss = 'mean_squared_error')\n",
    "model_lstm.fit(X_train, y_train, epochs = 10, batch_size = 32)"
   ]
  },
  {
   "cell_type": "code",
   "execution_count": 253,
   "id": "8ce18247",
   "metadata": {},
   "outputs": [
    {
     "name": "stdout",
     "output_type": "stream",
     "text": [
      "11/11 [==============================] - 0s 21ms/step\n"
     ]
    }
   ],
   "source": [
    "inputs = data[len(data) - len(data_test) - 60:]\n",
    "\n",
    "inputs = inputs.reshape(-1,1)\n",
    "inputs = sc.transform(inputs)\n",
    "X_test = []\n",
    "for i in range(60, inputs.shape[0]):\n",
    "    X_test.append(inputs[i-60:i, 0])\n",
    "X_test = np.array(X_test)\n",
    "X_test = np.reshape(X_test, (X_test.shape[0], X_test.shape[1],1))\n",
    "predicted_ng_price_lstm = model_lstm.predict(X_test)\n",
    "predicted_ng_price_lstm = sc.inverse_transform(predicted_ng_price_lstm)"
   ]
  },
  {
   "cell_type": "markdown",
   "id": "0cfcf59d",
   "metadata": {},
   "source": [
    "### Plotting the results"
   ]
  },
  {
   "cell_type": "code",
   "execution_count": 254,
   "id": "8911b411",
   "metadata": {},
   "outputs": [
    {
     "data": {
      "image/png": "[encoded data removed]",
      "text/plain": [
       "<Figure size 432x288 with 1 Axes>"
      ]
     },
     "metadata": {
      "needs_background": "light"
     },
     "output_type": "display_data"
    }
   ],
   "source": [
    "plt.plot(data_test, color = 'black', label = 'Henry hub price after 2022')\n",
    "\n",
    "plt.plot(predicted_ng_price_lstm, color = 'green', label = 'Predicted hunry hub Price')\n",
    "\n",
    "plt.title('Henry hub natural gas price')\n",
    "plt.xlabel('Time')\n",
    "plt.ylabel('Natural Gas Price')\n",
    "plt.legend()\n",
    "plt.show()"
   ]
  },
  {
   "cell_type": "markdown",
   "id": "7c6a4f5b",
   "metadata": {},
   "source": [
    "### Performance evaluation criteria"
   ]
  },
  {
   "cell_type": "code",
   "execution_count": 255,
   "id": "82aabe6d",
   "metadata": {},
   "outputs": [
    {
     "name": "stdout",
     "output_type": "stream",
     "text": [
      "[0.44478372]\n",
      "[0.39728456]\n",
      "[0.63030513]\n",
      "[0.08793515]\n"
     ]
    }
   ],
   "source": [
    "y_true = data_test\n",
    "y_pred = predicted_ng_price_lstm\n",
    "# MAE(Mean Absolute Error)\n",
    "mae = sum(abs(y_true - y_pred)) / len(y_true)\n",
    "\n",
    "# MSE(Mean Square Error)\n",
    "mse = sum((y_true - y_pred)**2) / len(y_true)\n",
    "\n",
    "# RMSE(Root Mean Square Error)\n",
    "rmse = np.sqrt(mse)\n",
    "\n",
    "# MAPE(Mean Absolute Percentage Error)\n",
    "mape = sum(abs((y_true - y_pred)/y_true)) / len(y_true)\n",
    "\n",
    "print(mae)\n",
    "print(mse)\n",
    "print(rmse)\n",
    "print(mape)"
   ]
  },
  {
   "cell_type": "markdown",
   "id": "6e98cd05",
   "metadata": {},
   "source": [
    "Even though I should have tried various hyperparameters with different layers, with the result from the above code, MLP performs slightly better than LSTM."
   ]
  }
 ],
 "metadata": {
  "kernelspec": {
   "display_name": "Python 3 (ipykernel)",
   "language": "python",
   "name": "python3"
  },
  "language_info": {
   "codemirror_mode": {
    "name": "ipython",
    "version": 3
   },
   "file_extension": ".py",
   "mimetype": "text/x-python",
   "name": "python",
   "nbconvert_exporter": "python",
   "pygments_lexer": "ipython3",
   "version": "3.8.2"
  }
 },
 "nbformat": 4,
 "nbformat_minor": 5
}
